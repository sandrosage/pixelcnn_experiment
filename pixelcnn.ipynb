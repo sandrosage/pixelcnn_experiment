{
 "cells": [
  {
   "cell_type": "code",
   "execution_count": 1,
   "metadata": {},
   "outputs": [],
   "source": [
    "from torchvision.transforms import Compose, Normalize\n",
    "from modules.model import AdaptivePoolTransform\n",
    "\n",
    "transform = Normalize(mean=(0.0,), std=(1.0,))  # Assume Laplace distributed inputs are mean 0, std 1\n"
   ]
  },
  {
   "cell_type": "code",
   "execution_count": 2,
   "metadata": {},
   "outputs": [
    {
     "name": "stderr",
     "output_type": "stream",
     "text": [
      "c:\\Users\\sandr\\source\\repos\\pixelcnn_experiment\\.venv\\lib\\site-packages\\tqdm\\auto.py:21: TqdmWarning: IProgress not found. Please update jupyter and ipywidgets. See https://ipywidgets.readthedocs.io/en/stable/user_install.html\n",
      "  from .autonotebook import tqdm as notebook_tqdm\n"
     ]
    }
   ],
   "source": [
    "from pl_modules import ReconstructKspaceDataModule\n",
    "from modules.kspace_data import KspaceDataTransform\n",
    "import pathlib as p\n",
    "dm = ReconstructKspaceDataModule(\n",
    "            p.Path(\"D:/knee_dataset\"),\n",
    "            challenge=\"singlecoil\",\n",
    "            train_transform=KspaceDataTransform(),\n",
    "            val_transform=KspaceDataTransform(),\n",
    "            test_transform=KspaceDataTransform(),\n",
    "            model_transform=transform,\n",
    "            batch_size=1,\n",
    "            num_workers=8,\n",
    "            use_dataset_cache_file=True)"
   ]
  },
  {
   "cell_type": "code",
   "execution_count": 3,
   "metadata": {},
   "outputs": [],
   "source": [
    "train_set = dm.train_dataloader()"
   ]
  },
  {
   "cell_type": "code",
   "execution_count": 7,
   "metadata": {},
   "outputs": [
    {
     "name": "stdout",
     "output_type": "stream",
     "text": [
      "torch.Size([1, 2, 640, 372])\n",
      "torch.Size([1, 2, 32, 64])\n",
      "torch.Size([1, 2, 640, 372])\n"
     ]
    }
   ],
   "source": [
    "from modules.model import ZeroPaddingTransform\n",
    "transform_1 = Compose([AdaptivePoolTransform((32,64), pool_type=\"avg\"), transform])\n",
    "another = Compose([ZeroPaddingTransform((45,45)), transform])\n",
    "for batch in train_set:\n",
    "    kspace = batch.kspace\n",
    "    masked_kspace = batch.masked_kspace\n",
    "    print(kspace.shape)\n",
    "    print(transform_1(kspace).shape)\n",
    "    print(another(kspace).shape)\n",
    "    break"
   ]
  },
  {
   "cell_type": "code",
   "execution_count": 20,
   "metadata": {},
   "outputs": [
    {
     "name": "stdout",
     "output_type": "stream",
     "text": [
      "None\n"
     ]
    }
   ],
   "source": [
    "import yaml\n",
    "with open(\"config.yaml\", \"r\") as file:\n",
    "    data = yaml.safe_load(file)[\"datamodule\"][\"kspace\"]\n",
    "\n",
    "print(data)"
   ]
  },
  {
   "cell_type": "code",
   "execution_count": 3,
   "metadata": {},
   "outputs": [
    {
     "data": {
      "text/plain": [
       "0"
      ]
     },
     "execution_count": 3,
     "metadata": {},
     "output_type": "execute_result"
    }
   ],
   "source": [
    "from fastmri.data.subsample import create_mask_for_mask_type\n",
    "\n",
    "mask_type = \"random\" # or equispaced\n",
    "center_fractions = [0.08, 0.04]\n",
    "accelerations = [4, 8]\n",
    "mask_func = create_mask_for_mask_type(mask_type, center_fractions, accelerations)\n",
    "from modules.kspace_data import KspaceSample\n",
    "\n",
    "s = KspaceSample(0,1)\n",
    "s[0]"
   ]
  },
  {
   "cell_type": "markdown",
   "metadata": {},
   "source": [
    "# Agenda to discuss\n",
    "- different kspace shapes (for forward diffusion equal shape is required)\n",
    "- output values (images: 256, because in paper they use softmax for probabilities)\n",
    "- split real and imaginary channel?\n",
    "- full kspace to full kspace, noisy kspace to full kspace, undersampled kspace to full kspace \n",
    "- different masking, 1D convolutions, multiplications instead of convolutions"
   ]
  },
  {
   "cell_type": "code",
   "execution_count": 86,
   "metadata": {},
   "outputs": [
    {
     "name": "stdout",
     "output_type": "stream",
     "text": [
      "300\n",
      "(71293440,)\n"
     ]
    }
   ],
   "source": [
    "import numpy as np\n",
    "samples = None\n",
    "for i, sample in enumerate(dataloader):\n",
    "    point = sample.masked_kspace[:,:,:,0].numpy().ravel()\n",
    "    if i>0:\n",
    "        samples = np.append(samples, point)\n",
    "    else:\n",
    "        samples = point\n",
    "    if i >= 300:\n",
    "        print(i)\n",
    "        break\n",
    "print(samples.shape)"
   ]
  },
  {
   "cell_type": "code",
   "execution_count": 87,
   "metadata": {},
   "outputs": [
    {
     "name": "stdout",
     "output_type": "stream",
     "text": [
      "10873542\n"
     ]
    }
   ],
   "source": [
    "print(len(set(samples.tolist())))"
   ]
  },
  {
   "cell_type": "code",
   "execution_count": 129,
   "metadata": {},
   "outputs": [
    {
     "data": {
      "image/png": "[encoded data removed]",
      "text/plain": [
       "<Figure size 640x480 with 1 Axes>"
      ]
     },
     "metadata": {},
     "output_type": "display_data"
    }
   ],
   "source": [
    "import numpy as np\n",
    "import matplotlib.pyplot as plt\n",
    "from scipy.stats import gaussian_kde\n",
    "\n",
    "# Step 1: Generate or load samples (example: normal distribution)\n",
    "# samples = np.random.normal(loc=0, scale=1, size=(1000,))  # 1000 samples from N(0, 1)\n",
    "# print(samples.shape)\n",
    "\n",
    "# Step 2a: Estimate PDF using a histogram\n",
    "# plt.hist([samples[:235520], samples[235520:2*235520]], bins=256, density=False, color=['g','b'], label=['Histogram1', 'Histogram2'], log=True, stacked=True)\n",
    "plt.hist(samples, bins=256, density=False, color='g', label='Histogram1', log=True)\n",
    "\n",
    "# Step 2b: Estimate PDF using Kernel Density Estimation (KDE)\n",
    "# kde = gaussian_kde(samples)\n",
    "# x = np.linspace(min(samples), max(samples), samples.shape[0])  # Create a range for x values# pdf = kde(x)  # Evaluate the KDE at these points\n",
    "# plt.plot(x, pdf, color='blue', label='KDE')\n",
    "\n",
    "# Step 3: Customize and display the plot\n",
    "plt.title('PDF of Samples')\n",
    "plt.xlabel('Sample Value')\n",
    "plt.ylabel('Density')\n",
    "plt.legend()\n",
    "plt.grid()\n",
    "plt.show()\n"
   ]
  },
  {
   "cell_type": "code",
   "execution_count": 70,
   "metadata": {},
   "outputs": [
    {
     "name": "stdout",
     "output_type": "stream",
     "text": [
      "Max:  tensor(0.0618)\n",
      "Min:  tensor(-0.0298)\n"
     ]
    }
   ],
   "source": [
    "import h5py\n",
    "import os\n",
    "from fastmri.data import transforms as T\n",
    "mi = 0\n",
    "ma = 0\n",
    "path = \"knee_singlecoil_val/singlecoil_val\"\n",
    "for file in os.listdir(path):\n",
    "    hf = h5py.File(os.path.join(path,file))\n",
    "    kspace =T.to_tensor(hf[\"kspace\"][()])\n",
    "    if kspace.min() < mi:\n",
    "        mi = kspace.min()\n",
    "    if kspace.max() > ma:\n",
    "        ma = kspace.max()\n",
    "print(\"Max: \", ma)\n",
    "print(\"Min: \", mi)"
   ]
  }
 ],
 "metadata": {
  "kernelspec": {
   "display_name": ".venv",
   "language": "python",
   "name": "python3"
  },
  "language_info": {
   "codemirror_mode": {
    "name": "ipython",
    "version": 3
   },
   "file_extension": ".py",
   "mimetype": "text/x-python",
   "name": "python",
   "nbconvert_exporter": "python",
   "pygments_lexer": "ipython3",
   "version": "3.11.9"
  }
 },
 "nbformat": 4,
 "nbformat_minor": 2
}
